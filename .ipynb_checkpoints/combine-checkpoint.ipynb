{
 "cells": [
  {
   "cell_type": "code",
   "execution_count": 8,
   "id": "000171fe",
   "metadata": {},
   "outputs": [],
   "source": [
    "import cv2\n",
    "import numpy as np\n",
    "import matplotlib.pyplot as plt\n",
    "\n",
    "data_folder = \"data/\"\n",
    "unity_video_folder = \"unity_video/\""
   ]
  },
  {
   "cell_type": "code",
   "execution_count": 9,
   "id": "aeac733d",
   "metadata": {},
   "outputs": [
    {
     "name": "stdout",
     "output_type": "stream",
     "text": [
      "(133, 288, 384)\n"
     ]
    }
   ],
   "source": [
    "video = cv2.VideoCapture(unity_video_folder + \"movie_017.mp4\")\n",
    "image = cv2.imread(data_folder + \"20210401_clip_0_0000_img_5.jpg\")\n",
    "image = cv2.cvtColor(image, cv2.COLOR_BGR2GRAY)\n",
    "\n",
    "new_video = []\n",
    "\n",
    "for i in range(int(video.get(cv2.CAP_PROP_FRAME_COUNT))):\n",
    "    ret, frame = video.read()\n",
    "    \n",
    "    subtract = int((frame.shape[1] - ((image.shape[1]/image.shape[0])*frame.shape[0]))/2)\n",
    "    \n",
    "    u_green = np.array([100, 255, 100])\n",
    "    l_green = np.array([0, 10, 0])\n",
    "    \n",
    "    mask = cv2.inRange(frame, l_green, u_green)\n",
    "    mask = cv2.blur(mask, (5, 5))\n",
    "    mask = mask[:,subtract:-subtract]\n",
    "    mask = cv2.resize(mask, (384, 288))\n",
    "\n",
    "    frame = frame[:,subtract:-subtract]\n",
    "    frame = cv2.resize(frame, (384, 288))\n",
    "    \n",
    "    f = np.array(image * (mask/255) + cv2.cvtColor(frame, cv2.COLOR_BGR2GRAY) * (np.ones((288, 384)) - (mask/255)), dtype='uint8')\n",
    "    \n",
    "    cv2.imshow(\"image\", image)\n",
    "    cv2.imshow(\"video\", frame)\n",
    "    cv2.imshow(\"mask\", mask)\n",
    "    cv2.imshow(\"f\", f)\n",
    "    \n",
    "    new_video.append(f)\n",
    " \n",
    "    if cv2.waitKey(25) == 27:\n",
    "        break\n",
    "\n",
    "new_video = np.array(new_video)\n",
    "print(new_video.shape)\n",
    "        \n",
    "video.release()\n",
    "cv2.destroyAllWindows()"
   ]
  },
  {
   "cell_type": "code",
   "execution_count": 10,
   "id": "8f0b0eb7",
   "metadata": {},
   "outputs": [
    {
     "name": "stdout",
     "output_type": "stream",
     "text": [
      "[[187 193 184 ... 172 168 161]\n",
      " [192 195 190 ... 182 178 171]\n",
      " [186 192 185 ... 178 173 166]\n",
      " ...\n",
      " [104 109 108 ... 105 103 105]\n",
      " [ 90  96  94 ... 106 105 107]\n",
      " [ 92 102 104 ... 108 107 110]]\n",
      "[[239  59 136 ...  35  49 183]\n",
      " [163  75  69 ...  63 208  74]\n",
      " [224 224  19 ... 144  45  31]\n",
      " ...\n",
      " [ 83 182  72 ... 231 151 150]\n",
      " [242 110  35 ... 107  40  64]\n",
      " [103  66  18 ... 101 253 116]]\n"
     ]
    }
   ],
   "source": [
    "size = 288, 384\n",
    "\n",
    "fps = 30\n",
    "\n",
    "out = cv2.VideoWriter('output.mp4', cv2.VideoWriter_fourcc(*'mp4v'), fps, (size[1], size[0]), False)\n",
    "for frame in new_video:\n",
    "    #frame = cv2.cvtColor(frame, cv2.COLOR_BGR2GRAY)\n",
    "    data = np.random.randint(0, 256, size, dtype='uint8')\n",
    "    out.write(frame)\n",
    "out.release()\n",
    "\n",
    "print(frame)\n",
    "print(data)"
   ]
  },
  {
   "cell_type": "code",
   "execution_count": null,
   "id": "37034a1a",
   "metadata": {},
   "outputs": [],
   "source": []
  },
  {
   "cell_type": "code",
   "execution_count": null,
   "id": "9fa3f186",
   "metadata": {},
   "outputs": [],
   "source": []
  }
 ],
 "metadata": {
  "kernelspec": {
   "display_name": "Python 3",
   "language": "python",
   "name": "python3"
  },
  "language_info": {
   "codemirror_mode": {
    "name": "ipython",
    "version": 3
   },
   "file_extension": ".py",
   "mimetype": "text/x-python",
   "name": "python",
   "nbconvert_exporter": "python",
   "pygments_lexer": "ipython3",
   "version": "3.8.11"
  }
 },
 "nbformat": 4,
 "nbformat_minor": 5
}
